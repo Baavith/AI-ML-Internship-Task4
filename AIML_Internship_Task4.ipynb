{
  "nbformat": 4,
  "nbformat_minor": 0,
  "metadata": {
    "colab": {
      "provenance": []
    },
    "kernelspec": {
      "name": "python3",
      "display_name": "Python 3"
    },
    "language_info": {
      "name": "python"
    }
  },
  "cells": [
    {
      "cell_type": "code",
      "execution_count": 1,
      "metadata": {
        "colab": {
          "base_uri": "https://localhost:8080/"
        },
        "id": "oDKgVIOoG-Wo",
        "outputId": "554bfb60-b195-40c8-e8e1-8ed311d3ab29"
      },
      "outputs": [
        {
          "output_type": "stream",
          "name": "stdout",
          "text": [
            "<class 'pandas.core.frame.DataFrame'>\n",
            "RangeIndex: 920 entries, 0 to 919\n",
            "Data columns (total 16 columns):\n",
            " #   Column    Non-Null Count  Dtype  \n",
            "---  ------    --------------  -----  \n",
            " 0   id        920 non-null    int64  \n",
            " 1   age       920 non-null    int64  \n",
            " 2   sex       920 non-null    object \n",
            " 3   dataset   920 non-null    object \n",
            " 4   cp        920 non-null    object \n",
            " 5   trestbps  861 non-null    float64\n",
            " 6   chol      890 non-null    float64\n",
            " 7   fbs       830 non-null    object \n",
            " 8   restecg   918 non-null    object \n",
            " 9   thalch    865 non-null    float64\n",
            " 10  exang     865 non-null    object \n",
            " 11  oldpeak   858 non-null    float64\n",
            " 12  slope     611 non-null    object \n",
            " 13  ca        309 non-null    float64\n",
            " 14  thal      434 non-null    object \n",
            " 15  num       920 non-null    int64  \n",
            "dtypes: float64(5), int64(3), object(8)\n",
            "memory usage: 115.1+ KB\n",
            "None\n",
            "               id         age    trestbps        chol      thalch     oldpeak  \\\n",
            "count  920.000000  920.000000  861.000000  890.000000  865.000000  858.000000   \n",
            "mean   460.500000   53.510870  132.132404  199.130337  137.545665    0.878788   \n",
            "std    265.725422    9.424685   19.066070  110.780810   25.926276    1.091226   \n",
            "min      1.000000   28.000000    0.000000    0.000000   60.000000   -2.600000   \n",
            "25%    230.750000   47.000000  120.000000  175.000000  120.000000    0.000000   \n",
            "50%    460.500000   54.000000  130.000000  223.000000  140.000000    0.500000   \n",
            "75%    690.250000   60.000000  140.000000  268.000000  157.000000    1.500000   \n",
            "max    920.000000   77.000000  200.000000  603.000000  202.000000    6.200000   \n",
            "\n",
            "               ca         num  \n",
            "count  309.000000  920.000000  \n",
            "mean     0.676375    0.995652  \n",
            "std      0.935653    1.142693  \n",
            "min      0.000000    0.000000  \n",
            "25%      0.000000    0.000000  \n",
            "50%      0.000000    1.000000  \n",
            "75%      1.000000    2.000000  \n",
            "max      3.000000    4.000000  \n",
            "num\n",
            "0    411\n",
            "1    265\n",
            "2    109\n",
            "3    107\n",
            "4     28\n",
            "Name: count, dtype: int64\n"
          ]
        }
      ],
      "source": [
        "import pandas as pd\n",
        "import numpy as np\n",
        "from sklearn.model_selection import train_test_split\n",
        "from sklearn.preprocessing import StandardScaler\n",
        "from sklearn.linear_model import LogisticRegression\n",
        "from sklearn.metrics import confusion_matrix, classification_report, roc_auc_score, roc_curve\n",
        "import matplotlib.pyplot as plt\n",
        "import seaborn as sns\n",
        "\n",
        "# Load the dataset\n",
        "df = pd.read_csv('heart_disease_uci.csv')\n",
        "\n",
        "# Explore the data\n",
        "print(df.info())\n",
        "print(df.describe())\n",
        "print(df['num'].value_counts())  # Target variable (0 = no disease, 1-4 = disease)\n",
        "\n",
        "# Create binary target (0 = no disease, 1 = disease)\n",
        "df['heart_disease'] = (df['num'] > 0).astype(int)\n",
        "\n",
        "# Select features - focusing on numerical ones for simplicity\n",
        "features = ['age', 'trestbps', 'chol', 'thalch', 'oldpeak']\n",
        "X = df[features]\n",
        "y = df['heart_disease']\n",
        "\n",
        "# Handle missing values (simple imputation)\n",
        "X = X.fillna(X.mean())\n",
        "\n",
        "# Split data\n",
        "X_train, X_test, y_train, y_test = train_test_split(X, y, test_size=0.3, random_state=42)\n",
        "\n",
        "# Standardize features\n",
        "scaler = StandardScaler()\n",
        "X_train_scaled = scaler.fit_transform(X_train)\n",
        "X_test_scaled = scaler.transform(X_test)"
      ]
    },
    {
      "cell_type": "code",
      "source": [
        "# Initialize and train logistic regression model\n",
        "logreg = LogisticRegression(random_state=42)\n",
        "logreg.fit(X_train_scaled, y_train)\n",
        "\n",
        "# Predict probabilities and classes\n",
        "y_pred_proba = logreg.predict_proba(X_test_scaled)[:, 1]\n",
        "y_pred = (y_pred_proba > 0.5).astype(int)  # Default threshold of 0.5"
      ],
      "metadata": {
        "id": "axk4L2hYHONJ"
      },
      "execution_count": 2,
      "outputs": []
    },
    {
      "cell_type": "code",
      "source": [
        "cm = confusion_matrix(y_test, y_pred)\n",
        "sns.heatmap(cm, annot=True, fmt='d', cmap='Blues')\n",
        "plt.xlabel('Predicted')\n",
        "plt.ylabel('Actual')\n",
        "plt.title('Confusion Matrix')\n",
        "plt.show()"
      ],
      "metadata": {
        "colab": {
          "base_uri": "https://localhost:8080/",
          "height": 472
        },
        "id": "ppdM3mTeHSWf",
        "outputId": "5dfb663d-a48a-4ae3-e417-7224b9d06d41"
      },
      "execution_count": 3,
      "outputs": [
        {
          "output_type": "display_data",
          "data": {
            "text/plain": [
              "<Figure size 640x480 with 2 Axes>"
            ],
            "image/png": "[encoded data removed]"
          },
          "metadata": {}
        }
      ]
    },
    {
      "cell_type": "code",
      "source": [
        "print(classification_report(y_test, y_pred))"
      ],
      "metadata": {
        "colab": {
          "base_uri": "https://localhost:8080/"
        },
        "id": "Cy5XaDHVHXE7",
        "outputId": "610e84e1-36ba-454b-89e3-6bcfd04769dc"
      },
      "execution_count": 4,
      "outputs": [
        {
          "output_type": "stream",
          "name": "stdout",
          "text": [
            "              precision    recall  f1-score   support\n",
            "\n",
            "           0       0.69      0.72      0.70       120\n",
            "           1       0.78      0.76      0.77       156\n",
            "\n",
            "    accuracy                           0.74       276\n",
            "   macro avg       0.73      0.74      0.74       276\n",
            "weighted avg       0.74      0.74      0.74       276\n",
            "\n"
          ]
        }
      ]
    },
    {
      "cell_type": "code",
      "source": [
        "fpr, tpr, thresholds = roc_curve(y_test, y_pred_proba)\n",
        "roc_auc = roc_auc_score(y_test, y_pred_proba)\n",
        "\n",
        "plt.figure()\n",
        "plt.plot(fpr, tpr, color='darkorange', lw=2, label='ROC curve (area = %0.2f)' % roc_auc)\n",
        "plt.plot([0, 1], [0, 1], color='navy', lw=2, linestyle='--')\n",
        "plt.xlim([0.0, 1.0])\n",
        "plt.ylim([0.0, 1.05])\n",
        "plt.xlabel('False Positive Rate')\n",
        "plt.ylabel('True Positive Rate')\n",
        "plt.title('Receiver Operating Characteristic')\n",
        "plt.legend(loc=\"lower right\")\n",
        "plt.show()"
      ],
      "metadata": {
        "colab": {
          "base_uri": "https://localhost:8080/",
          "height": 472
        },
        "id": "maEcbplWHb4S",
        "outputId": "01b3d744-47f9-4d2c-811a-f9a723ee8f34"
      },
      "execution_count": 5,
      "outputs": [
        {
          "output_type": "display_data",
          "data": {
            "text/plain": [
              "<Figure size 640x480 with 1 Axes>"
            ],
            "image/png": "[encoded data removed]"
          },
          "metadata": {}
        }
      ]
    },
    {
      "cell_type": "code",
      "source": [
        "# Try different thresholds\n",
        "thresholds = np.arange(0.1, 1.0, 0.1)\n",
        "for threshold in thresholds:\n",
        "    y_pred_thresh = (y_pred_proba > threshold).astype(int)\n",
        "    print(f\"\\nThreshold: {threshold:.1f}\")\n",
        "    print(classification_report(y_test, y_pred_thresh))"
      ],
      "metadata": {
        "colab": {
          "base_uri": "https://localhost:8080/"
        },
        "id": "ndZBppHzHf4z",
        "outputId": "ff9bc557-a360-4218-ba8c-e63e9d3d7041"
      },
      "execution_count": 6,
      "outputs": [
        {
          "output_type": "stream",
          "name": "stdout",
          "text": [
            "\n",
            "Threshold: 0.1\n",
            "              precision    recall  f1-score   support\n",
            "\n",
            "           0       1.00      0.03      0.05       120\n",
            "           1       0.57      1.00      0.73       156\n",
            "\n",
            "    accuracy                           0.58       276\n",
            "   macro avg       0.79      0.51      0.39       276\n",
            "weighted avg       0.76      0.58      0.43       276\n",
            "\n",
            "\n",
            "Threshold: 0.2\n",
            "              precision    recall  f1-score   support\n",
            "\n",
            "           0       0.79      0.26      0.39       120\n",
            "           1       0.62      0.95      0.75       156\n",
            "\n",
            "    accuracy                           0.65       276\n",
            "   macro avg       0.71      0.60      0.57       276\n",
            "weighted avg       0.70      0.65      0.60       276\n",
            "\n",
            "\n",
            "Threshold: 0.3\n",
            "              precision    recall  f1-score   support\n",
            "\n",
            "           0       0.82      0.47      0.60       120\n",
            "           1       0.69      0.92      0.79       156\n",
            "\n",
            "    accuracy                           0.72       276\n",
            "   macro avg       0.76      0.69      0.69       276\n",
            "weighted avg       0.75      0.72      0.71       276\n",
            "\n",
            "\n",
            "Threshold: 0.4\n",
            "              precision    recall  f1-score   support\n",
            "\n",
            "           0       0.78      0.59      0.67       120\n",
            "           1       0.74      0.87      0.80       156\n",
            "\n",
            "    accuracy                           0.75       276\n",
            "   macro avg       0.76      0.73      0.74       276\n",
            "weighted avg       0.75      0.75      0.74       276\n",
            "\n",
            "\n",
            "Threshold: 0.5\n",
            "              precision    recall  f1-score   support\n",
            "\n",
            "           0       0.69      0.72      0.70       120\n",
            "           1       0.78      0.76      0.77       156\n",
            "\n",
            "    accuracy                           0.74       276\n",
            "   macro avg       0.73      0.74      0.74       276\n",
            "weighted avg       0.74      0.74      0.74       276\n",
            "\n",
            "\n",
            "Threshold: 0.6\n",
            "              precision    recall  f1-score   support\n",
            "\n",
            "           0       0.62      0.86      0.72       120\n",
            "           1       0.84      0.59      0.69       156\n",
            "\n",
            "    accuracy                           0.71       276\n",
            "   macro avg       0.73      0.72      0.71       276\n",
            "weighted avg       0.75      0.71      0.70       276\n",
            "\n",
            "\n",
            "Threshold: 0.7\n",
            "              precision    recall  f1-score   support\n",
            "\n",
            "           0       0.59      0.93      0.72       120\n",
            "           1       0.91      0.51      0.65       156\n",
            "\n",
            "    accuracy                           0.69       276\n",
            "   macro avg       0.75      0.72      0.69       276\n",
            "weighted avg       0.77      0.69      0.68       276\n",
            "\n",
            "\n",
            "Threshold: 0.8\n",
            "              precision    recall  f1-score   support\n",
            "\n",
            "           0       0.54      0.97      0.69       120\n",
            "           1       0.94      0.37      0.53       156\n",
            "\n",
            "    accuracy                           0.63       276\n",
            "   macro avg       0.74      0.67      0.61       276\n",
            "weighted avg       0.76      0.63      0.60       276\n",
            "\n",
            "\n",
            "Threshold: 0.9\n",
            "              precision    recall  f1-score   support\n",
            "\n",
            "           0       0.47      0.98      0.63       120\n",
            "           1       0.92      0.14      0.24       156\n",
            "\n",
            "    accuracy                           0.51       276\n",
            "   macro avg       0.69      0.56      0.44       276\n",
            "weighted avg       0.72      0.51      0.41       276\n",
            "\n"
          ]
        }
      ]
    },
    {
      "cell_type": "code",
      "source": [
        "# Get coefficients and corresponding feature names\n",
        "coefficients = pd.DataFrame({\n",
        "    'Feature': features,\n",
        "    'Coefficient': logreg.coef_[0]\n",
        "})\n",
        "\n",
        "# Sort by absolute value of coefficient\n",
        "coefficients['Abs_Coefficient'] = coefficients['Coefficient'].abs()\n",
        "coefficients = coefficients.sort_values('Abs_Coefficient', ascending=False)\n",
        "\n",
        "print(coefficients)"
      ],
      "metadata": {
        "colab": {
          "base_uri": "https://localhost:8080/"
        },
        "id": "J2RvK9MEHjcW",
        "outputId": "11793fd5-ecd3-41ec-fd24-ffa048214e11"
      },
      "execution_count": 7,
      "outputs": [
        {
          "output_type": "stream",
          "name": "stdout",
          "text": [
            "    Feature  Coefficient  Abs_Coefficient\n",
            "4   oldpeak     0.901993         0.901993\n",
            "3    thalch    -0.669484         0.669484\n",
            "2      chol    -0.478512         0.478512\n",
            "0       age     0.148343         0.148343\n",
            "1  trestbps     0.101392         0.101392\n"
          ]
        }
      ]
    }
  ]
}